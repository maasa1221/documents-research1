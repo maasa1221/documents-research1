{
 "cells": [
  {
   "cell_type": "markdown",
   "metadata": {},
   "source": [
    "### 1.SVM(サポートベクターマシン）カーネル\n",
    "もっとも有名であろう機械学習ライブラリscikit-learnを用いる。  \n",
    "scikit-learnに搭載されているSVM分類器　sklearn.svm.SVC=> Support Vector Classification.\n",
    "\n",
    "  - RBFカーネル(デフォルト）\n",
    "    \n",
    "    別名：動径基底関数カーネル\n",
    "    \n",
    "    \n",
    "    　　\n",
    "     \n",
    "    \n",
    "- LINEARカーネル（線形カーネル）\n",
    "              \n",
    "- POLYカーネル\n",
    "              \n",
    "- PRECOMPUTEDカーネル\n",
    "              \n",
    "- SIGMOIDカーネル\n",
    "\n",
    "\n",
    "\n",
    "↓SVM分類器を上記カーネルごとに実行した際の選択される特徴量とスコア\n",
    "\n"
   ]
  },
  {
   "cell_type": "code",
   "execution_count": 10,
   "metadata": {},
   "outputs": [
    {
     "name": "stdout",
     "output_type": "stream",
     "text": [
      "選択特徴量[[8, 0, 0]]\n",
      "スコア[[0.7895236703682057, 0.9594444444444443, 0]]\n"
     ]
    }
   ],
   "source": [
    "#RBFカーネル\n",
    "print(\"選択特徴量\"+str(tree_list_box))\n",
    "print(\"スコア\"+str(score_list_box) )"
   ]
  },
  {
   "cell_type": "code",
   "execution_count": 12,
   "metadata": {},
   "outputs": [
    {
     "name": "stdout",
     "output_type": "stream",
     "text": [
      "選択特徴量[[46, 0, 0]]\n",
      "スコア[[0.7747662185856224, 0.8546438746438746, 0]]\n"
     ]
    }
   ],
   "source": [
    "#線形カーネル\n",
    "print(\"選択特徴量\"+str(tree_list_box))\n",
    "print(\"スコア\"+str(score_list_box) )"
   ]
  },
  {
   "cell_type": "code",
   "execution_count": 14,
   "metadata": {},
   "outputs": [
    {
     "name": "stdout",
     "output_type": "stream",
     "text": [
      "選択特徴量[[8, 0, 0]]\n",
      "スコア[[0.785237677771284, 0.9671794871794872, 0]]\n"
     ]
    }
   ],
   "source": [
    "#polyカーネル\n",
    "print(\"選択特徴量\"+str(tree_list_box))\n",
    "print(\"スコア\"+str(score_list_box) )"
   ]
  }
 ],
 "metadata": {
  "kernelspec": {
   "display_name": "Python 3",
   "language": "python",
   "name": "python3"
  },
  "language_info": {
   "codemirror_mode": {
    "name": "ipython",
    "version": 3
   },
   "file_extension": ".py",
   "mimetype": "text/x-python",
   "name": "python",
   "nbconvert_exporter": "python",
   "pygments_lexer": "ipython3",
   "version": "3.6.7"
  }
 },
 "nbformat": 4,
 "nbformat_minor": 2
}
